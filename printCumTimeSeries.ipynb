{
 "cells": [
  {
   "cell_type": "code",
   "execution_count": 1,
   "metadata": {},
   "outputs": [],
   "source": [
    "# cumulative time series"
   ]
  },
  {
   "cell_type": "code",
   "execution_count": 2,
   "metadata": {},
   "outputs": [],
   "source": [
    "import numpy as np\n",
    "import pandas as pd\n",
    "import matplotlib.pyplot as plt\n",
    "%matplotlib inline"
   ]
  },
  {
   "cell_type": "code",
   "execution_count": 3,
   "metadata": {},
   "outputs": [
    {
     "data": {
      "text/html": [
       "<div>\n",
       "<style scoped>\n",
       "    .dataframe tbody tr th:only-of-type {\n",
       "        vertical-align: middle;\n",
       "    }\n",
       "\n",
       "    .dataframe tbody tr th {\n",
       "        vertical-align: top;\n",
       "    }\n",
       "\n",
       "    .dataframe thead th {\n",
       "        text-align: right;\n",
       "    }\n",
       "</style>\n",
       "<table border=\"1\" class=\"dataframe\">\n",
       "  <thead>\n",
       "    <tr style=\"text-align: right;\">\n",
       "      <th></th>\n",
       "      <th>country</th>\n",
       "      <th>date</th>\n",
       "      <th>experiment_id</th>\n",
       "      <th>order_id</th>\n",
       "      <th>spend_usd</th>\n",
       "      <th>user_id</th>\n",
       "      <th>vertical</th>\n",
       "    </tr>\n",
       "  </thead>\n",
       "  <tbody>\n",
       "    <tr>\n",
       "      <th>0</th>\n",
       "      <td>JP</td>\n",
       "      <td>20170402</td>\n",
       "      <td>12624548</td>\n",
       "      <td>5813140433216629693</td>\n",
       "      <td>16.138855</td>\n",
       "      <td>5006730028073359543</td>\n",
       "      <td>ANDROID_APPS</td>\n",
       "    </tr>\n",
       "    <tr>\n",
       "      <th>1</th>\n",
       "      <td>US</td>\n",
       "      <td>20170403</td>\n",
       "      <td>12624549</td>\n",
       "      <td>16333056276711034931</td>\n",
       "      <td>9.990000</td>\n",
       "      <td>5938685669571545259</td>\n",
       "      <td>ANDROID_APPS</td>\n",
       "    </tr>\n",
       "    <tr>\n",
       "      <th>2</th>\n",
       "      <td>JP</td>\n",
       "      <td>20170404</td>\n",
       "      <td>12624548</td>\n",
       "      <td>11227119161741298366</td>\n",
       "      <td>19.887087</td>\n",
       "      <td>17623708458399141713</td>\n",
       "      <td>ANDROID_APPS</td>\n",
       "    </tr>\n",
       "    <tr>\n",
       "      <th>3</th>\n",
       "      <td>US</td>\n",
       "      <td>20170403</td>\n",
       "      <td>12624548</td>\n",
       "      <td>11927299833124210932</td>\n",
       "      <td>19.990000</td>\n",
       "      <td>18042812344456618148</td>\n",
       "      <td>ANDROID_APPS</td>\n",
       "    </tr>\n",
       "    <tr>\n",
       "      <th>4</th>\n",
       "      <td>JP</td>\n",
       "      <td>20170403</td>\n",
       "      <td>12624549</td>\n",
       "      <td>11644727017708872749</td>\n",
       "      <td>88.220093</td>\n",
       "      <td>4325104700699531031</td>\n",
       "      <td>ANDROID_APPS</td>\n",
       "    </tr>\n",
       "  </tbody>\n",
       "</table>\n",
       "</div>"
      ],
      "text/plain": [
       "  country      date  experiment_id              order_id  spend_usd  \\\n",
       "0      JP  20170402       12624548   5813140433216629693  16.138855   \n",
       "1      US  20170403       12624549  16333056276711034931   9.990000   \n",
       "2      JP  20170404       12624548  11227119161741298366  19.887087   \n",
       "3      US  20170403       12624548  11927299833124210932  19.990000   \n",
       "4      JP  20170403       12624549  11644727017708872749  88.220093   \n",
       "\n",
       "                user_id      vertical  \n",
       "0   5006730028073359543  ANDROID_APPS  \n",
       "1   5938685669571545259  ANDROID_APPS  \n",
       "2  17623708458399141713  ANDROID_APPS  \n",
       "3  18042812344456618148  ANDROID_APPS  \n",
       "4   4325104700699531031  ANDROID_APPS  "
      ]
     },
     "execution_count": 3,
     "metadata": {},
     "output_type": "execute_result"
    }
   ],
   "source": [
    "# read data\n",
    "# file_location = \"/...\"\n",
    "# file_name = 'data.csv'\n",
    "my_data = pd.read_csv('data.csv')\n",
    "my_data.head(5)"
   ]
  },
  {
   "cell_type": "code",
   "execution_count": null,
   "metadata": {},
   "outputs": [],
   "source": [
    "# deal with data\n",
    "import datetime\n",
    "my_data.date = pd.to_datetime(my_data.date, format = '%Y%m%d')"
   ]
  },
  {
   "cell_type": "code",
   "execution_count": 15,
   "metadata": {},
   "outputs": [],
   "source": [
    "# function: get cummulative series for each id\n",
    "def getCumSeries(my_data, my_id, country, vertical):\n",
    "    # filter certain country, vertical's date and spend_usd\n",
    "    table = my_data[['date', 'spend_usd']][(my_data.experiment_id == my_id) & (my_data.country == country) & (my_data.vertical == vertical)]\n",
    "    # calculate sum of spend_usd, group by date \n",
    "    data = table.groupby('date')['spend_usd'].sum()\n",
    "    # calculate cumulative sum for data\n",
    "    data = np.cumsum(data)\n",
    "    # get total_revenue (last row)\n",
    "    total_revenue = data[-1]\n",
    "    return((data, total_revenue))"
   ]
  },
  {
   "cell_type": "code",
   "execution_count": 16,
   "metadata": {},
   "outputs": [
    {
     "data": {
      "text/plain": [
       "(date\n",
       " 2017-04-01    15139.743602\n",
       " 2017-04-02    23692.226787\n",
       " 2017-04-03    29446.059652\n",
       " 2017-04-04    34234.700951\n",
       " 2017-04-05    42858.682130\n",
       " 2017-04-06    47171.363749\n",
       " 2017-04-07    53496.677770\n",
       " Name: spend_usd, dtype: float64, 53496.67777000003)"
      ]
     },
     "execution_count": 16,
     "metadata": {},
     "output_type": "execute_result"
    }
   ],
   "source": [
    "# test\n",
    "blue = getCumSeries(my_data, 12624549, 'JP', 'ANDROID_APPS')\n",
    "blue"
   ]
  },
  {
   "cell_type": "code",
   "execution_count": 32,
   "metadata": {},
   "outputs": [],
   "source": [
    "import matplotlib.ticker as mtick\n",
    "def plotSeries(experiment_series, control_series, country, vertical):\n",
    "    fig, ax = plt.subplots()\n",
    "    ax.plot(experiment_series, color = \"red\", label = \"experiment\")\n",
    "    ax.plot(control_series, color = \"blue\", label = \"control\")\n",
    "    # tweaks\n",
    "    ax.set_ylim(0, 100000)\n",
    "    ax.set_title(country + \" \" + vertical + \" \" + \"experiment v.s control\")\n",
    "    ax.set_ylabel(\"Total Spend\")\n",
    "    ax.grid(True, which = \"both\")\n",
    "    fmt = '${x:,.0f}'\n",
    "    tick = mtick.StrMethodFormatter(fmt)\n",
    "    ax.yaxis.set_major_formatter(tick) \n",
    "    # change legend\n",
    "    ax.legend().get_texts()[0].set_text(\"experiment\")\n",
    "    ax.legend().get_texts()[1].set_text(\"control\")\n",
    "    # format date\n",
    "    plt.gcf().autofmt_xdate()"
   ]
  },
  {
   "cell_type": "code",
   "execution_count": 33,
   "metadata": {},
   "outputs": [],
   "source": [
    "def printCumSeries(my_data, experiment_ids, country, vertical):\n",
    "    # get unique date\n",
    "    index_series = np.unique(my_data.date)\n",
    "    # sort date\n",
    "    index_series = np.sort(index_series)\n",
    "    # group by date\n",
    "    my_data = my_data.sort_values(\"date\", ascending = True, inplace = False)\n",
    "    # get cumulative series and total revenue respectively\n",
    "    treatment_series = getCumSeries(my_data, experiment_ids[0], country, vertical)[0]\n",
    "    treatment_revenue = getCumSeries(my_data, experiment_ids[0], country, vertical)[1]\n",
    "    control_series = getCumSeries(my_data, experiment_ids[1], country, vertical)[0]\n",
    "    control_revenue = getCumSeries(my_data, experiment_ids[1], country, vertical)[1]\n",
    "    \n",
    "    # print out overall uplift\n",
    "    print(\"Overall % uplift on revenue:\" + str((treatment_revenue - control_revenue)/control_revenue))\n",
    "    # plot\n",
    "    plotSeries(treatment_series, control_series, country, vertical)"
   ]
  },
  {
   "cell_type": "code",
   "execution_count": 34,
   "metadata": {},
   "outputs": [
    {
     "name": "stdout",
     "output_type": "stream",
     "text": [
      "Overall % uplift on revenue:-0.1953911263039544\n"
     ]
    },
    {
     "data": {
      "image/png": "[encoded data removed]",
      "text/plain": [
       "<matplotlib.figure.Figure at 0x109cd3b00>"
      ]
     },
     "metadata": {},
     "output_type": "display_data"
    }
   ],
   "source": [
    "printCumSeries(my_data, [12624548, 12624549], 'JP', 'ANDROID_APPS')"
   ]
  },
  {
   "cell_type": "code",
   "execution_count": 35,
   "metadata": {},
   "outputs": [
    {
     "name": "stdout",
     "output_type": "stream",
     "text": [
      "Overall % uplift on revenue:-0.04716141869593589\n"
     ]
    },
    {
     "data": {
      "image/png": "[encoded data removed]",
      "text/plain": [
       "<matplotlib.figure.Figure at 0x109b7fac8>"
      ]
     },
     "metadata": {},
     "output_type": "display_data"
    }
   ],
   "source": [
    "printCumSeries(my_data, [12624548,12624549], 'US', 'ANDROID_APPS')"
   ]
  },
  {
   "cell_type": "code",
   "execution_count": null,
   "metadata": {},
   "outputs": [],
   "source": []
  }
 ],
 "metadata": {
  "kernelspec": {
   "display_name": "Python 3",
   "language": "python",
   "name": "python3"
  },
  "language_info": {
   "codemirror_mode": {
    "name": "ipython",
    "version": 3
   },
   "file_extension": ".py",
   "mimetype": "text/x-python",
   "name": "python",
   "nbconvert_exporter": "python",
   "pygments_lexer": "ipython3",
   "version": "3.6.4"
  }
 },
 "nbformat": 4,
 "nbformat_minor": 2
}
