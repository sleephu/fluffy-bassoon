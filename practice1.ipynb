{
 "cells": [
  {
   "cell_type": "code",
   "execution_count": 9,
   "metadata": {},
   "outputs": [
    {
     "data": {
      "text/plain": [
       "array([1, 2, 3, 4])"
      ]
     },
     "execution_count": 9,
     "metadata": {},
     "output_type": "execute_result"
    }
   ],
   "source": [
    "# HW1:\n",
    "'''\n",
    " How can you handle duplicate values in a dataset in Python?\n",
    "''' \n",
    "# a. use numpy.unique\n",
    "import numpy as np\n",
    "array = np.array([1, 1, 2, 2, 3, 4])\n",
    "array = np.unique(array)\n",
    "array"
   ]
  },
  {
   "cell_type": "code",
   "execution_count": 10,
   "metadata": {},
   "outputs": [
    {
     "data": {
      "text/plain": [
       "[2, 3, 4, 5, 1]"
      ]
     },
     "execution_count": 10,
     "metadata": {},
     "output_type": "execute_result"
    }
   ],
   "source": [
    "# HW1\n",
    "# b. use control flow\n",
    "mylist = [2,3,3,4,4,4,5,1]\n",
    "out = []\n",
    "for i in mylist:\n",
    "    if i not in out:\n",
    "        out.append(i)\n",
    "out"
   ]
  },
  {
   "cell_type": "code",
   "execution_count": 13,
   "metadata": {},
   "outputs": [
    {
     "data": {
      "text/plain": [
       "{1, 2, 3, 4, 5}"
      ]
     },
     "execution_count": 13,
     "metadata": {},
     "output_type": "execute_result"
    }
   ],
   "source": [
    "# HW1\n",
    "# c. use Data structre: set, which only store unique elements\n",
    "mylist = [2,3,3,4,4,4,5,1]\n",
    "out = set()\n",
    "for i in mylist:\n",
    "    out.add(i)\n",
    "out"
   ]
  },
  {
   "cell_type": "code",
   "execution_count": null,
   "metadata": {
    "collapsed": true
   },
   "outputs": [],
   "source": [
    "# HW2: \n",
    "'''\n",
    "You are given two tables - friend_request and request_accepted.\n",
    "Friend_request contains requester_id, time and sent_to_id and\n",
    "request_accepted table contains time, acceptor_id and\n",
    "requester_id. How will you determine the overall acceptance rate\n",
    "of requests?\n",
    "Write in both Python and SQL\n",
    "''' \n",
    "\n",
    "# Assumption:\n",
    "# 1. Request never expires, whenerver the Request is accepted, it is accouted.\n",
    "# 2. Request cannot be sent to oneself.\n",
    "# 3. Request can be sent serveral times to same receiver before the receiver accepte the request.\n",
    "# 4. One Request can be accepted once only, and even acceptor unfriend after accepting, the previous accept is accounted.\n",
    "# 5. \"sent_to_id\" in Friend_request Table is \"acceptor_id\" in Request_accepted Table; \n",
    "# 6. \"request_id\" in Friend_request Table is \"requester_id\" in Request_accepted Table; \n",
    "# 7. overall acceptance rate = #accepts(number of records in Request_accepts Table)/#requests(number of records of Friend_Request Table)\n",
    "# 8. Round acceptance rate up to two decimal places.\n",
    "\n",
    "# Python\n",
    "# Suppose Friend_request Table data stored in df1, and Request_accepted Table data stored in df2\n",
    "\n",
    "print(df1[0].count/df2[0].count)\n",
    "\n",
    "# SQL\n",
    "SELECT ROUND(\n",
    "    (SELECT COUNT(*) FROM request_accepted)\n",
    "    /\n",
    "    (SELECT COUNT(*) FROM friend_request)\n",
    "    , 2) as 'acceptance rate';\n",
    "\n",
    "# Reference: connect to MySQL use PyMySQL\n",
    "#import PyMySQL\n",
    "\n",
    "# # Open database connection\n",
    "# db = PyMySQL.connect(\"localhost\",\"jackie\",\"Test123456\",\"TESTDB\" )\n",
    "\n",
    "# # prepare a cursor object using cursor() method\n",
    "# cursor = db.cursor()\n",
    "\n",
    "# # execute SQL query using execute() method.\n",
    "# cursor.execute(\"SELECT VERSION()\")\n",
    "\n",
    "# # Fetch a single row using fetchone() method.\n",
    "# data = cursor.fetchone()\n",
    "# print (\"Database version : %s \" % data)\n",
    "\n",
    "# # disconnect from server\n",
    "# db.close()\n",
    "\n",
    "\n"
   ]
  },
  {
   "cell_type": "code",
   "execution_count": 2,
   "metadata": {},
   "outputs": [
    {
     "name": "stdout",
     "output_type": "stream",
     "text": [
      "VISTAELECTION\n"
     ]
    }
   ],
   "source": [
    "#HW3: write Python scripts to identify the issuer of the credit card numbers\n",
    "'''\n",
    "“Issuer” of a credit card are companies like Visa,\n",
    "Mastercard, American Express. Now we know the\n",
    "following rules:\n",
    "CC number starts with: '4'\n",
    "CC len : 16\n",
    "Issuer: VISA\n",
    "CC number starts with: '34', '37'\n",
    "CC len : 15\n",
    "Issuer : AMEX\n",
    "CC number starts with: '36'\n",
    "CC len : 14\n",
    "Issuer : Diners Club\n",
    "Credit card number starts with\n",
    "'4026', '417500', '4405', '4508', '4844',\n",
    "'4913', '4917'\n",
    "CC len : 16\n",
    "Issuer : VISAELECTRON\n",
    "'''\n",
    "def validate(cc):\n",
    "    if len(cc) == 15 and ((cc[0:2] == \"34\") or (cc[0:2] == \"37\")):\n",
    "        print(\"AMEX\")\n",
    "    elif (cc[0:2] == \"36\") and (len(cc) == 14):\n",
    "        print(\"Diners Club\")\n",
    "    elif (cc[0:1] == \"4\") and (len(cc) == 16):\n",
    "        if (cc[0:6] == \"417500\"):\n",
    "            print(\"VISTAELECTION\")\n",
    "        else:\n",
    "            print(\"VISA\")\n",
    "    else:\n",
    "        print(\"N/A\")\n",
    "\n",
    "cc = \"4175004175004172\"\n",
    "validate(cc)"
   ]
  },
  {
   "cell_type": "code",
   "execution_count": null,
   "metadata": {
    "collapsed": true
   },
   "outputs": [],
   "source": []
  }
 ],
 "metadata": {
  "kernelspec": {
   "display_name": "Python 3",
   "language": "python",
   "name": "python3"
  },
  "language_info": {
   "codemirror_mode": {
    "name": "ipython",
    "version": 3
   },
   "file_extension": ".py",
   "mimetype": "text/x-python",
   "name": "python",
   "nbconvert_exporter": "python",
   "pygments_lexer": "ipython3",
   "version": "3.6.2"
  }
 },
 "nbformat": 4,
 "nbformat_minor": 2
}
